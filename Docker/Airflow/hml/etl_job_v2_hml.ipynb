{
 "cells": [
  {
   "cell_type": "code",
   "execution_count": 2,
   "metadata": {},
   "outputs": [
    {
     "name": "stdout",
     "output_type": "stream",
     "text": [
      "['id_cliente', 'nome_cliente', 'sobrenome_cliente']\n",
      "['100', \"'Bob'\", \"'Farias'\"]\n",
      "['101', \"'Maria'\", \"'Tavares'\"]\n",
      "['103', \"'John'\", \"'Snow'\"]\n"
     ]
    }
   ],
   "source": [
    "import csv\n",
    "\n",
    "with open('../data/DIM_CLIENTE.csv','r') as f:\n",
    "    reader = csv.reader(f)\n",
    "    for l in reader:\n",
    "        print(l)"
   ]
  },
  {
   "cell_type": "code",
   "execution_count": 5,
   "metadata": {},
   "outputs": [
    {
     "name": "stdout",
     "output_type": "stream",
     "text": [
      "id_cliente\n"
     ]
    }
   ],
   "source": [
    "with open('../data/DIM_CLIENTE.csv','r') as f:\n",
    "    \n",
    "    data = []\n",
    "    \n",
    "    reader = csv.reader(f)\n",
    "    for l in reader:\n",
    "        data.append(tuple(l))\n",
    "\n",
    "print(data[0][0])\n",
    "    \n"
   ]
  },
  {
   "cell_type": "code",
   "execution_count": null,
   "metadata": {},
   "outputs": [],
   "source": []
  }
 ],
 "metadata": {
  "kernelspec": {
   "display_name": "airflow",
   "language": "python",
   "name": "python3"
  },
  "language_info": {
   "codemirror_mode": {
    "name": "ipython",
    "version": 3
   },
   "file_extension": ".py",
   "mimetype": "text/x-python",
   "name": "python",
   "nbconvert_exporter": "python",
   "pygments_lexer": "ipython3",
   "version": "3.10.9"
  },
  "orig_nbformat": 4
 },
 "nbformat": 4,
 "nbformat_minor": 2
}
